{
 "cells": [
  {
   "cell_type": "markdown",
   "metadata": {
    "slideshow": {
     "slide_type": "slide"
    }
   },
   "source": [
    "線形回帰\n",
    "====================\n",
    "--------------------------------------------"
   ]
  },
  {
   "cell_type": "markdown",
   "metadata": {
    "slideshow": {
     "slide_type": "slide"
    }
   },
   "source": [
    "ここでは、以下のような、重みw×説明変数xの項を足し合わせた\n",
    "\n",
    "$y=w_{0}+w_{1}x_{1}+w_{2}x_{2}\\ldots$\n",
    "\n",
    "の形で連続変数yを目的変数として予測するモデルについて取り扱う。これを線形回帰(Linear Regression)と呼ぶ。\n",
    "\n",
    "説明のため、以下のように書き換える。\n",
    "\n",
    "$f(x)=W^T\\phi(x)$\n",
    "\n",
    "予測するためには、この$W$を推定する必要がある。推定することで予測式を作る(パラメータを求める)のが回帰式のモデリングである。"
   ]
  },
  {
   "cell_type": "markdown",
   "metadata": {
    "slideshow": {
     "slide_type": "-"
    }
   },
   "source": [
    "$W$はM次ベクトルで、説明変数に対する重みである。なお、Mは説明変数の数である（回帰式に定数を含む場合、説明変数の数+1）。\n",
    "\n",
    "$\n",
    "  W=\\left(\n",
    "  \\begin{array}{ccc}\n",
    "  w_{1} \\\\\n",
    "  w_{2} \\\\\n",
    "  \\vdots \\\\\n",
    "  w_{M}\n",
    "  \\end{array}\n",
    "  \\right)\n",
    "$"
   ]
  },
  {
   "cell_type": "markdown",
   "metadata": {
    "slideshow": {
     "slide_type": "slide"
    }
   },
   "source": [
    "$W$は解析的に以下のように求めることができる。これは最小二乗問題の正規方程式として知られる。\n",
    "\n",
    "$W=(\\Phi^T\\Phi)^{-1}\\Phi^Tt$"
   ]
  },
  {
   "cell_type": "markdown",
   "metadata": {},
   "source": [
    "$\\Phi$はN×M次元の行列で、Nはケース（レコード）の数である。\n",
    "\n",
    "$\n",
    "  \\Phi=\\left(\n",
    "  \\begin{array}{ccc}\n",
    "  1 & x_{11} & x_{12} & \\ldots & x_{1M} \\\\\n",
    "  1 & x_{21} & x_{22} & \\ldots & x_{1M} \\\\\n",
    "  \\vdots & \\vdots & \\vdots & \\ddots & \\vdots \\\\\n",
    "  1 & x_{N1} & x_{N2} & \\ldots & x_{NM}\n",
    "  \\end{array}\n",
    "  \\right)\n",
    "$"
   ]
  },
  {
   "cell_type": "markdown",
   "metadata": {},
   "source": [
    "$t$は学習データの目的変数である。\n",
    "\n",
    "$t=\\left(\n",
    "\\begin{array}{ccc}\n",
    "t_{1} \\\\\n",
    "t_{2} \\\\\n",
    "\\vdots \\\\\n",
    "t_{N} \\\\\n",
    "\\end{array}\n",
    "\\right)\n",
    "$\n",
    "\n",
    "このように、重みを学習データの説明変数と学習データの目的変数から推定している事がわかる。"
   ]
  },
  {
   "cell_type": "markdown",
   "metadata": {
    "slideshow": {
     "slide_type": "slide"
    }
   },
   "source": [
    "##単回帰"
   ]
  },
  {
   "cell_type": "code",
   "execution_count": null,
   "metadata": {
    "collapsed": false,
    "slideshow": {
     "slide_type": "slide"
    }
   },
   "outputs": [],
   "source": [
    "%matplotlib inline\n",
    "import numpy\n",
    "import matplotlib.pyplot\n",
    "import pandas"
   ]
  },
  {
   "cell_type": "markdown",
   "metadata": {
    "slideshow": {
     "slide_type": "slide"
    }
   },
   "source": [
    "読み込むデータは以下のとおりである。\n",
    "\n",
    "このデータから$\\mathrm{Salary} = w_0+w_1 \\times \\mathrm{Years}$の式（のw）を推定する。"
   ]
  },
  {
   "cell_type": "code",
   "execution_count": null,
   "metadata": {
    "collapsed": false
   },
   "outputs": [],
   "source": [
    "t = numpy.array([213000,192000,199000,241000,175000,220000,208000,184000,203000,245000,188000,216000,200000,173000,187000,191000,219000,189000,236000,179000])\n",
    "X1 = numpy.array([8,5,7,13,2,10,4,3,7,12,6,10,6,1,3,3,9,2,11,1])\n",
    "df = pandas.DataFrame({\n",
    "        'Salary' : t,\n",
    "        'Years' : X1\n",
    "        })\n",
    "df.ix[ range(0,5), :]"
   ]
  },
  {
   "cell_type": "markdown",
   "metadata": {
    "slideshow": {
     "slide_type": "slide"
    }
   },
   "source": [
    "データを可視化すると以下のようになる。誤差はあるにせよ、一本の直線を描けることがわかる。\n",
    "その直線を描くためのパラメータを求める必要がある。"
   ]
  },
  {
   "cell_type": "code",
   "execution_count": null,
   "metadata": {
    "collapsed": false
   },
   "outputs": [],
   "source": [
    "matplotlib.pyplot.xlabel('Years')\n",
    "matplotlib.pyplot.ylabel('Salary')\n",
    "matplotlib.pyplot.plot(X1, t, 'o')"
   ]
  },
  {
   "cell_type": "markdown",
   "metadata": {
    "slideshow": {
     "slide_type": "slide"
    }
   },
   "source": [
    "ここで、Yearから$\\Phi$を算出するために以下の関数を定義する。"
   ]
  },
  {
   "cell_type": "code",
   "execution_count": null,
   "metadata": {
    "collapsed": false
   },
   "outputs": [],
   "source": [
    "def phi(x):\n",
    "    return [1, x]\n",
    "PHI = numpy.array([phi(x) for x in X1])\n",
    "PHI"
   ]
  },
  {
   "cell_type": "markdown",
   "metadata": {},
   "source": [
    "この時 return [1, x] を return [1, x, x\\*\\*2] に変更するとどうなるだろうか。"
   ]
  },
  {
   "cell_type": "markdown",
   "metadata": {
    "slideshow": {
     "slide_type": "slide"
    }
   },
   "source": [
    "$W=(\\Phi^T\\Phi)^{-1}\\Phi^Tt$をnumpyで記述する。\n",
    "\n",
    "行列AとBの積をとるには dot(A, B)、Aの転地をとるには A.T、Aの逆行列をとるにはinv(A)を使用する。\n",
    "また、$A^{-1}B$を計算するのにinvにより逆行列をとって計算してもよいが、solveを使用する。\n",
    "\n",
    "以上より式は以下のように整理できる。\n",
    "\n",
    "$W = \\mathrm{solve}(\\mathrm{dot}(\\Phi.\\mathrm{T}, \\Phi), \\mathrm{dot}(\\Phi.\\mathrm{T}, t))$\n",
    "\n"
   ]
  },
  {
   "cell_type": "code",
   "execution_count": null,
   "metadata": {
    "collapsed": false
   },
   "outputs": [],
   "source": [
    "W = numpy.linalg.solve(numpy.dot(PHI.T, PHI), numpy.dot(PHI.T, t))\n",
    "print W\n",
    "W = numpy.dot(numpy.linalg.inv(numpy.dot(PHI.T, PHI)), numpy.dot(PHI.T, t))\n",
    "print W"
   ]
  },
  {
   "cell_type": "markdown",
   "metadata": {
    "slideshow": {
     "slide_type": "slide"
    }
   },
   "source": [
    "予測値は$y=w_{0}+w_{1}x_{1}+w_{2}x_{2}\\ldots$で得られるのだから、以下のように計算できる。"
   ]
  },
  {
   "cell_type": "code",
   "execution_count": null,
   "metadata": {
    "collapsed": false
   },
   "outputs": [],
   "source": [
    "print \"PHI_0 = \", PHI[0]\n",
    "print \"W = \", W\n",
    "print \"Y = \", numpy.dot(PHI[0], W)"
   ]
  },
  {
   "cell_type": "markdown",
   "metadata": {
    "slideshow": {
     "slide_type": "slide"
    }
   },
   "source": [
    "図示すると、以下のようになる。"
   ]
  },
  {
   "cell_type": "code",
   "execution_count": null,
   "metadata": {
    "collapsed": false
   },
   "outputs": [],
   "source": [
    "#0～15までのデータに対して、予測を行う\n",
    "xlist = numpy.arange(0, 15, 0.5)\n",
    "ylist = [numpy.dot(W, phi(x)) for x in xlist]\n",
    "\n",
    "matplotlib.pyplot.xlabel(\"Years\")\n",
    "matplotlib.pyplot.ylabel(\"Salary\")\n",
    "matplotlib.pyplot.plot(X1, t, 'o')\n",
    "matplotlib.pyplot.plot(xlist, ylist)"
   ]
  },
  {
   "cell_type": "markdown",
   "metadata": {
    "slideshow": {
     "slide_type": "slide"
    }
   },
   "source": [
    "実測値tと予測値Yを比較した場合、以下のようになる。"
   ]
  },
  {
   "cell_type": "code",
   "execution_count": null,
   "metadata": {
    "collapsed": false
   },
   "outputs": [],
   "source": [
    "Y = numpy.dot(PHI, W)\n",
    "xylist = numpy.array([170000, 250000])\n",
    "matplotlib.pyplot.xlabel(\"Y\")\n",
    "matplotlib.pyplot.ylabel(\"t\")\n",
    "matplotlib.pyplot.plot(Y, t, 'o')\n",
    "matplotlib.pyplot.plot(xylist, xylist)"
   ]
  },
  {
   "cell_type": "markdown",
   "metadata": {
    "slideshow": {
     "slide_type": "slide"
    }
   },
   "source": [
    "##重回帰"
   ]
  },
  {
   "cell_type": "code",
   "execution_count": null,
   "metadata": {
    "collapsed": true,
    "slideshow": {
     "slide_type": "slide"
    }
   },
   "outputs": [],
   "source": [
    "%matplotlib inline\n",
    "import numpy\n",
    "import matplotlib.pyplot\n",
    "from mpl_toolkits.mplot3d import Axes3D\n",
    "import pandas"
   ]
  },
  {
   "cell_type": "markdown",
   "metadata": {
    "slideshow": {
     "slide_type": "slide"
    }
   },
   "source": [
    "読み込むデータは以下のとおりである。\n",
    "\n",
    "このデータから$\\mathrm{Salary} = w_0+w_1 \\times \\mathrm{Years}+\\mathrm{License}$の式（のw）を推定する。"
   ]
  },
  {
   "cell_type": "code",
   "execution_count": null,
   "metadata": {
    "collapsed": false
   },
   "outputs": [],
   "source": [
    "t = numpy.array([213000,192000,199000,241000,175000,220000,208000,184000,203000,245000,188000,216000,200000,173000,187000,191000,219000,189000,236000,179000])\n",
    "X1 = numpy.array([8,5,7,13,2,10,4,3,7,12,6,10,6,1,3,3,9,2,11,1])\n",
    "X2 = numpy.array([1,0,0,0,0,0,1,0,0,1,0,0,1,0,0,1,1,1,1,1])\n",
    "df = pandas.DataFrame({\n",
    "        'Salary' : t,\n",
    "        'Years' : X1,\n",
    "        'License' : X2\n",
    "        })\n",
    "df.ix[ range(0,5), :][[\"Salary\", \"Years\", \"License\"]]"
   ]
  },
  {
   "cell_type": "markdown",
   "metadata": {
    "slideshow": {
     "slide_type": "slide"
    }
   },
   "source": [
    "データを図示すると以下のとおりである。"
   ]
  },
  {
   "cell_type": "code",
   "execution_count": null,
   "metadata": {
    "collapsed": false,
    "scrolled": true
   },
   "outputs": [],
   "source": [
    "fig = matplotlib.pyplot.figure()\n",
    "ax = Axes3D(fig)\n",
    "ax.scatter3D(X1, X2, t)"
   ]
  },
  {
   "cell_type": "markdown",
   "metadata": {
    "slideshow": {
     "slide_type": "slide"
    }
   },
   "source": [
    "$\\Phi$の形にデータを読み込む。"
   ]
  },
  {
   "cell_type": "code",
   "execution_count": null,
   "metadata": {
    "collapsed": false
   },
   "outputs": [],
   "source": [
    "PHI = numpy.array([numpy.array([1 for x in X1]), X1,X2]).T\n",
    "PHI"
   ]
  },
  {
   "cell_type": "markdown",
   "metadata": {
    "slideshow": {
     "slide_type": "slide"
    }
   },
   "source": [
    "単回帰の時と同様に計算する。"
   ]
  },
  {
   "cell_type": "code",
   "execution_count": null,
   "metadata": {
    "collapsed": false,
    "slideshow": {
     "slide_type": "-"
    }
   },
   "outputs": [],
   "source": [
    "W = numpy.linalg.solve(numpy.dot(PHI.T, PHI), numpy.dot(PHI.T, t))\n",
    "W"
   ]
  },
  {
   "cell_type": "markdown",
   "metadata": {
    "slideshow": {
     "slide_type": "slide"
    }
   },
   "source": [
    "結果を図示すると以下のようになる。"
   ]
  },
  {
   "cell_type": "code",
   "execution_count": null,
   "metadata": {
    "collapsed": false
   },
   "outputs": [],
   "source": [
    "Y = numpy.dot(PHI, W)\n",
    "xylist = numpy.array([170000, 250000])\n",
    "matplotlib.pyplot.plot(Y, t, 'o')\n",
    "matplotlib.pyplot.plot(xylist, xylist)\n",
    "matplotlib.pyplot.legend()\n",
    "\n",
    "matplotlib.pyplot.xlabel(\"Y\")\n",
    "matplotlib.pyplot.ylabel(\"t\")"
   ]
  }
 ],
 "metadata": {
  "celltoolbar": "Slideshow",
  "kernelspec": {
   "display_name": "Python 2",
   "language": "python",
   "name": "python2"
  },
  "language_info": {
   "codemirror_mode": {
    "name": "ipython",
    "version": 2
   },
   "file_extension": ".py",
   "mimetype": "text/x-python",
   "name": "python",
   "nbconvert_exporter": "python",
   "pygments_lexer": "ipython2",
   "version": "2.7.9"
  }
 },
 "nbformat": 4,
 "nbformat_minor": 0
}
